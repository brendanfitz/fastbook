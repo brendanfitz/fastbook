{
 "cells": [
  {
   "cell_type": "code",
   "execution_count": null,
   "id": "9f9a56aa",
   "metadata": {},
   "outputs": [],
   "source": [
    "from fastbook import *\n",
    "from fastai.vision.widgets import *\n",
    "from IPython.display import display, clear_output"
   ]
  },
  {
   "cell_type": "code",
   "execution_count": null,
   "id": "f41ae5d0",
   "metadata": {},
   "outputs": [],
   "source": [
    "filepath = path / 'ellie'\n",
    "files = filepath.glob('*')\n",
    "\n",
    "button = widgets.Button(description=\"Next Photo\")\n",
    "output = widgets.Output()\n",
    "\n",
    "display(button, output)\n",
    "\n",
    "file = None\n",
    "img = None\n",
    "\n",
    "i = 0\n",
    "    \n",
    "def show_photo(b):\n",
    "    global file\n",
    "    global img\n",
    "    global i\n",
    "    with output:\n",
    "        clear_output()\n",
    "        file = next(files)\n",
    "        img = Image.open(file)\n",
    "        display(img.to_thumb(128, 128))\n",
    "        print(f'{i}: ', file)\n",
    "        i = i + 1\n",
    "        \n",
    "        \n",
    "button.on_click(show_photo)"
   ]
  },
  {
   "cell_type": "code",
   "execution_count": null,
   "id": "32c5b703",
   "metadata": {},
   "outputs": [],
   "source": [
    "# file = path / 'ellie' / 'IMG_4996.jpg'\n",
    "\n",
    "class Rotator:\n",
    "    button = widgets.Button(description=\"Rotate Current Photo\")\n",
    "    output = widgets.Output()\n",
    "\n",
    "    def rotate(b):\n",
    "        global file\n",
    "        img = Image.open(file)\n",
    "        img_rot = img.rotate(-90, expand=True)\n",
    "        img_rot.save(file)\n",
    "\n",
    "        img = Image.open(file)\n",
    "        with output:\n",
    "            clear_output()\n",
    "            img.to_thumb(128, 128)\n",
    "    \n",
    "    button.on_click(rotate)\n",
    "\n",
    "r = Rotator()\n",
    "display(r.button, r.output)"
   ]
  },
  {
   "cell_type": "code",
   "execution_count": null,
   "id": "ee70b2ad",
   "metadata": {},
   "outputs": [],
   "source": [
    "try:\n",
    "    img = Image.open(file)\n",
    "    img.to_thumb(128, 128)\n",
    "except AttributeError:\n",
    "    print(\"No Photo Selected\")"
   ]
  }
 ],
 "metadata": {
  "kernelspec": {
   "display_name": "fastai",
   "language": "python",
   "name": "fastai"
  },
  "language_info": {
   "codemirror_mode": {
    "name": "ipython",
    "version": 3
   },
   "file_extension": ".py",
   "mimetype": "text/x-python",
   "name": "python",
   "nbconvert_exporter": "python",
   "pygments_lexer": "ipython3",
   "version": "3.9.13"
  },
  "toc": {
   "base_numbering": 1,
   "nav_menu": {},
   "number_sections": false,
   "sideBar": true,
   "skip_h1_title": false,
   "title_cell": "Table of Contents",
   "title_sidebar": "Contents",
   "toc_cell": false,
   "toc_position": {},
   "toc_section_display": true,
   "toc_window_display": true
  }
 },
 "nbformat": 4,
 "nbformat_minor": 5
}
